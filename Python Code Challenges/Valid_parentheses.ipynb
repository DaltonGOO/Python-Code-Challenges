{
 "cells": [
  {
   "cell_type": "markdown",
   "metadata": {},
   "source": [
    "# Resources\n",
    "\n",
    "\n",
    "\n",
    "\n",
    "### Python\n",
    "\n",
    "[Python 3 Documentation](https://docs.python.org/3/library/)\n",
    "\n",
    "\n",
    "### General\n",
    "\n",
    "[Stackoverflow](https://stackoverflow.com/)\n",
    "\n",
    "### YouTube vids\n",
    "\n",
    "[Kalle Hallden](https://www.youtube.com/channel/UCWr0mx597DnSGLFk1WfvSkQ)\n",
    "\n",
    "[PyCon 2019](https://www.youtube.com/channel/UCxs2IIVXaEHHA4BtTiWZ2mQ)\n",
    "\n",
    "[Tech With Tim](https://www.youtube.com/channel/UC4JX40jDee_tINbkjycV4Sg)\n",
    "\n",
    "[Python Programmer](https://www.youtube.com/user/consumerchampion)\n",
    "\n",
    "[sentdex](https://www.youtube.com/user/sentdex)\n",
    "\n",
    "### Markdown links\n",
    "[Markdown Cheatsheet](https://github.com/adam-p/markdown-here/wiki/Markdown-Cheatsheet)\n",
    "\n",
    "[Markdown Guide](https://www.markdownguide.org/)\n",
    "\n",
    "[Markdown Table Generator](https://www.tablesgenerator.com/markdown_tables)\n",
    "\n",
    "\n",
    "### Code\n",
    "\n",
    "\n",
    "```df.reset_index(self, level=None, drop=False, inplace=False, col_level=0, col_fill='')```\n",
    "\n",
    "```df = pd.DataFrame(np.random.randint(500,4000,size=(200, 1)), columns=list('A'))```\n",
    "\n",
    "```df['randNumCol'] = np.random.randint(1, 6, df.shape[0])```\n",
    "\n",
    "```\n",
    "# Declare a list that is to be converted into a column \n",
    "tradcounthvac = xyzhvac.x.count()\n",
    "tradehvac = tradcounthvac * ['hvac'] \n",
    "\n",
    "tradcountelec = xyzelec.x.count()\n",
    "tradeelec = tradcountelec * ['elec'] \n",
    "\n",
    "# Using 'Trade' as the column name \n",
    "# and equating it to the list \n",
    "xyzhvac['Trade'] = tradehvac\n",
    "xyzelec['Trade'] = tradeelec\n",
    "```\n",
    "\n",
    "\n",
    "\n",
    "### Packages\n",
    "\n",
    "\n",
    "```! pip install pandas-profiling```\n",
    "\n",
    "```! pip install plotly```\n",
    "\n",
    "```! pip install cufflinks```\n",
    "\n",
    "```! pip install plotly==4.2.1```\n",
    "\n",
    "```!pip install dovpanda```\n",
    "\n",
    "```import numpy as np```\n",
    "\n",
    "```import pandas as pd```\n",
    "\n",
    "```import pandas_profiling```\n",
    "\n",
    "```import plotly.graph_objects as go```\n",
    "\n",
    "```import dovpanda```\n",
    "\n",
    "### pandas\n",
    "[What can you do with the new ‘Pandas’?](https://towardsdatascience.com/what-can-you-do-with-the-new-pandas-2d24cf8d8b4b)\n",
    "\n",
    "[Reordering Pandas DataFrame Columns: Thumbs Down On Standard Solutions](https://towardsdatascience.com/reordering-pandas-dataframe-columns-thumbs-down-on-standard-solutions-1ff0bc2941d5)\n",
    "\n",
    "[pandas Documentation](https://pandas.pydata.org/pandas-docs/stable/)\n",
    "\n",
    "[7 practical pandas tips when you start working with the library](https://towardsdatascience.com/7-practical-pandas-tips-when-you-start-working-with-the-library-e4a9205eb443)\n",
    "\n",
    "[dataframe transpose](https://www.geeksforgeeks.org/python-pandas-dataframe-transpose/)\n",
    "\n",
    "[Combining DataFrames with Pandas](https://datacarpentry.org/python-ecology-lesson/05-merging-data/)\n",
    "\n",
    "[dovpanda](https://github.com/dovpanda-dev/dovpanda)\n",
    "\n",
    "\n",
    "[Selecting Subsets of Data in Pandas: Part 1](https://medium.com/dunder-data/selecting-subsets-of-data-in-pandas-6fcd0170be9c)\n",
    "\n",
    "[10 simple Python tips to speed up your data analysis](https://thenextweb.com/syndication/2020/10/12/10-simple-python-tips-to-speed-up-your-data-analysis/)\n",
    "\n",
    "[15 Tips and Tricks to use in Jupyter Notebooks](https://towardsdatascience.com/15-tips-and-tricks-to-use-jupyter-notebook-more-efficiently-ef05ede4e4b9)\n",
    "\n",
    "```result = df.transpose() ```\n",
    "\n",
    "5 functions to examine your data: ```df.head()', df.describe(), df.info(), df.shape, df.sum(), df['Trade'].value_counts() ```\n",
    "\n",
    "Reports: ```pandas_profiling.ProfileReport(df)```\n",
    "\n",
    "Import: ```import pandas_profiling```\n",
    "\n",
    "Save a dataframe to a csv```df.to_csv```\n",
    "\n",
    "Create a Pandas Dataframe```df = pd.DataFrame(data) ```\n",
    "\n",
    "Read a csv file```pd.read_csv('')```\n",
    "\n",
    "Read a excel file```pd.read_excel('')```\n",
    "\n",
    "All rows that have a sepal length greater than 6 are dangerous ```df['is_dangerous'] = np.where(df['sepal length (cm)']>6, 'yes', 'no')```\n",
    "\n",
    "Max columns option ```pd.set_option('display.max_columns', 500)```\n",
    "\n",
    "Max row option ```pd.set_option('display.max_rows', 500)```\n",
    "\n",
    "to see columns ```df.columns```\n",
    "\n",
    "replace strings ```df.columns = df.columns.str.replace(' \\(cm\\)', '').str.replace(' ', '_')```\n",
    "\n",
    "### plotly\n",
    "\n",
    "[plotly Graphing Libraries](https://plot.ly/python/)\n",
    "\n",
    "[Different Colors for Bars in Barchart by their Value](https://community.plot.ly/t/different-colors-for-bars-in-barchart-by-their-value/6527)\n",
    "\n",
    "\n",
    "\n",
    "### Scikit-Learn\n",
    "\n",
    "[A beginner’s guide to Linear Regression in Python with Scikit-Learn](https://towardsdatascience.com/a-beginners-guide-to-linear-regression-in-python-with-scikit-learn-83a8f7ae2b4f)\n",
    "\n",
    "### Notes"
   ]
  },
  {
   "cell_type": "code",
   "execution_count": 44,
   "metadata": {},
   "outputs": [],
   "source": [
    "# Codewars\n",
    "# https://www.codewars.com/kata/52774a314c2333f0a7000688/train/python\n",
    "# Valid Parentheses"
   ]
  },
  {
   "cell_type": "code",
   "execution_count": null,
   "metadata": {},
   "outputs": [],
   "source": [
    "\"()\"              =>  true\n",
    "\")(()))\"          =>  false\n",
    "\"(\"               =>  false\n",
    "\"(())((()())())\"  =>  true"
   ]
  },
  {
   "cell_type": "code",
   "execution_count": 34,
   "metadata": {},
   "outputs": [
    {
     "data": {
      "text/plain": [
       "False"
      ]
     },
     "execution_count": 34,
     "metadata": {},
     "output_type": "execute_result"
    }
   ],
   "source": [
    "valid_parentheses(\"(())((()())())\")"
   ]
  },
  {
   "cell_type": "code",
   "execution_count": 28,
   "metadata": {},
   "outputs": [],
   "source": [
    "string = \"))((\""
   ]
  },
  {
   "cell_type": "code",
   "execution_count": 22,
   "metadata": {},
   "outputs": [
    {
     "data": {
      "text/plain": [
       "2"
      ]
     },
     "execution_count": 22,
     "metadata": {},
     "output_type": "execute_result"
    }
   ],
   "source": [
    "int(len(string) / 2)"
   ]
  },
  {
   "cell_type": "code",
   "execution_count": null,
   "metadata": {},
   "outputs": [],
   "source": []
  },
  {
   "cell_type": "code",
   "execution_count": 29,
   "metadata": {},
   "outputs": [
    {
     "data": {
      "text/plain": [
       "'))'"
      ]
     },
     "execution_count": 29,
     "metadata": {},
     "output_type": "execute_result"
    }
   ],
   "source": [
    "s1 = string[:int(len(string) / 2)]"
   ]
  },
  {
   "cell_type": "code",
   "execution_count": 30,
   "metadata": {},
   "outputs": [
    {
     "data": {
      "text/plain": [
       "'(('"
      ]
     },
     "execution_count": 30,
     "metadata": {},
     "output_type": "execute_result"
    }
   ],
   "source": [
    "s2 = string[-int(len(string) / 2):]"
   ]
  },
  {
   "cell_type": "code",
   "execution_count": 39,
   "metadata": {},
   "outputs": [
    {
     "data": {
      "text/plain": [
       "'my'"
      ]
     },
     "execution_count": 39,
     "metadata": {},
     "output_type": "execute_result"
    }
   ],
   "source": [
    "string = \"mystring\"\n",
    "string[:2]"
   ]
  },
  {
   "cell_type": "code",
   "execution_count": 42,
   "metadata": {},
   "outputs": [
    {
     "ename": "AttributeError",
     "evalue": "'str' object has no attribute 'pop'",
     "output_type": "error",
     "traceback": [
      "\u001b[1;31m---------------------------------------------------------------------------\u001b[0m",
      "\u001b[1;31mAttributeError\u001b[0m                            Traceback (most recent call last)",
      "\u001b[1;32m<ipython-input-42-a225b34da9db>\u001b[0m in \u001b[0;36m<module>\u001b[1;34m\u001b[0m\n\u001b[0;32m      1\u001b[0m \u001b[0mstring\u001b[0m \u001b[1;33m=\u001b[0m \u001b[1;34m\"mystring\"\u001b[0m\u001b[1;33m\u001b[0m\u001b[1;33m\u001b[0m\u001b[0m\n\u001b[1;32m----> 2\u001b[1;33m \u001b[0mstring\u001b[0m\u001b[1;33m.\u001b[0m\u001b[0mpop\u001b[0m\u001b[1;33m(\u001b[0m\u001b[1;34m\"s\"\u001b[0m\u001b[1;33m)\u001b[0m\u001b[1;33m\u001b[0m\u001b[1;33m\u001b[0m\u001b[0m\n\u001b[0m",
      "\u001b[1;31mAttributeError\u001b[0m: 'str' object has no attribute 'pop'"
     ]
    }
   ],
   "source": [
    "string = \"mystring\""
   ]
  },
  {
   "cell_type": "code",
   "execution_count": 55,
   "metadata": {},
   "outputs": [
    {
     "ename": "SyntaxError",
     "evalue": "invalid syntax (<ipython-input-55-488eb1c2e13c>, line 1)",
     "output_type": "error",
     "traceback": [
      "\u001b[1;36m  File \u001b[1;32m\"<ipython-input-55-488eb1c2e13c>\"\u001b[1;36m, line \u001b[1;32m1\u001b[0m\n\u001b[1;33m    \"()\"              =>  true\u001b[0m\n\u001b[1;37m                       ^\u001b[0m\n\u001b[1;31mSyntaxError\u001b[0m\u001b[1;31m:\u001b[0m invalid syntax\n"
     ]
    }
   ],
   "source": [
    "\"()\"              =>  true\n",
    "\")(()))\"          =>  false\n",
    "\"(\"               =>  false\n",
    "\"(())((()())())\"  =>  true"
   ]
  },
  {
   "cell_type": "code",
   "execution_count": 72,
   "metadata": {},
   "outputs": [
    {
     "name": "stdout",
     "output_type": "stream",
     "text": [
      "['(', '(', ')', ')', '(', '(', '(', ')', '(', ')', ')', '(', ')', ')']\n",
      "['', '(', '', ')', '(', '(', '(', ')', '(', ')', ')', '(', ')', ')']\n",
      "['', '', '', '', '(', '(', '(', ')', '(', ')', ')', '(', ')', ')']\n"
     ]
    },
    {
     "data": {
      "text/plain": [
       "'False2'"
      ]
     },
     "execution_count": 72,
     "metadata": {},
     "output_type": "execute_result"
    }
   ],
   "source": [
    "valid_parentheses(\"(())((()())())\")"
   ]
  },
  {
   "cell_type": "code",
   "execution_count": 71,
   "metadata": {},
   "outputs": [],
   "source": [
    "def valid_parentheses(string):\n",
    "    string_slice = 0\n",
    "    count = 0\n",
    "    new_string = list(string)\n",
    "    \n",
    "    \n",
    "    if len(new_string) != new_string.count(\"\"):\n",
    "            for c_index, c in enumerate(list(new_string)):\n",
    "                if c_index == 0 and c == \")\":\n",
    "                    return \"False1\"\n",
    "                    break\n",
    "\n",
    "                if c == \")\":\n",
    "                    print(new_string)\n",
    "                    return \"False2\"\n",
    "                    break\n",
    "                else:\n",
    "                    for i_index, i in enumerate(list(new_string)):\n",
    "                        if i == \")\":\n",
    "                            try:\n",
    "                                print(new_string)\n",
    "                                new_string[i_index] = \"\"\n",
    "                                new_string[c_index] = \"\"\n",
    "                                break\n",
    "                            except:\n",
    "                                return \"False3\"\n",
    "                                break\n",
    "\n",
    "\n",
    "    else:\n",
    "        return True\n",
    "                    "
   ]
  },
  {
   "cell_type": "code",
   "execution_count": 32,
   "metadata": {},
   "outputs": [],
   "source": [
    "test_str = \"(())((()())())\""
   ]
  },
  {
   "cell_type": "code",
   "execution_count": 14,
   "metadata": {},
   "outputs": [],
   "source": [
    "res_first = test_str[0:len(test_str)//2] \n",
    "res_second = test_str[len(test_str)//2 if len(test_str)%2 == 0\n",
    "                                 else ((len(test_str)//2)+1):] "
   ]
  },
  {
   "cell_type": "code",
   "execution_count": 15,
   "metadata": {},
   "outputs": [
    {
     "data": {
      "text/plain": [
       "')())())'"
      ]
     },
     "execution_count": 15,
     "metadata": {},
     "output_type": "execute_result"
    }
   ],
   "source": [
    "res_second"
   ]
  },
  {
   "cell_type": "code",
   "execution_count": 16,
   "metadata": {},
   "outputs": [
    {
     "data": {
      "text/plain": [
       "'(())((('"
      ]
     },
     "execution_count": 16,
     "metadata": {},
     "output_type": "execute_result"
    }
   ],
   "source": [
    "res_first"
   ]
  },
  {
   "cell_type": "code",
   "execution_count": 33,
   "metadata": {},
   "outputs": [
    {
     "data": {
      "text/plain": [
       "False"
      ]
     },
     "execution_count": 33,
     "metadata": {},
     "output_type": "execute_result"
    }
   ],
   "source": [
    "valid_parentheses(\")(()))\")"
   ]
  },
  {
   "cell_type": "code",
   "execution_count": 1,
   "metadata": {},
   "outputs": [],
   "source": [
    "s = \"()\""
   ]
  },
  {
   "cell_type": "code",
   "execution_count": 4,
   "metadata": {},
   "outputs": [
    {
     "data": {
      "text/plain": [
       "True"
      ]
     },
     "execution_count": 4,
     "metadata": {},
     "output_type": "execute_result"
    }
   ],
   "source": [
    "s.count(\"(\") == s.count(\")\")"
   ]
  },
  {
   "cell_type": "code",
   "execution_count": 10,
   "metadata": {},
   "outputs": [
    {
     "name": "stdout",
     "output_type": "stream",
     "text": [
      "-4 -3 3.6 4 3\n"
     ]
    }
   ],
   "source": [
    "n = -3.6\n",
    "print(round(n), int(n), abs(n), abs(round(n)), abs(int(n)))"
   ]
  },
  {
   "cell_type": "code",
   "execution_count": 12,
   "metadata": {},
   "outputs": [
    {
     "data": {
      "text/plain": [
       "9"
      ]
     },
     "execution_count": 12,
     "metadata": {},
     "output_type": "execute_result"
    }
   ],
   "source": [
    "# exponentiation\n",
    "pow(3,2)"
   ]
  },
  {
   "cell_type": "code",
   "execution_count": 14,
   "metadata": {},
   "outputs": [
    {
     "name": "stdout",
     "output_type": "stream",
     "text": [
      "0.125\n"
     ]
    }
   ],
   "source": [
    "chanceOfTails = 0.5\n",
    "inARowTails = 3\n",
    "print(pow(chanceOfTails, inARowTails))"
   ]
  },
  {
   "cell_type": "code",
   "execution_count": 15,
   "metadata": {},
   "outputs": [
    {
     "name": "stdout",
     "output_type": "stream",
     "text": [
      "1\n"
     ]
    }
   ],
   "source": [
    "l1 = [1,2,3,4]\n",
    "l2 = [1]\n",
    "\n",
    "for i, j in zip(l1, l2):\n",
    "    print(i)"
   ]
  },
  {
   "cell_type": "code",
   "execution_count": null,
   "metadata": {},
   "outputs": [],
   "source": []
  }
 ],
 "metadata": {
  "kernelspec": {
   "display_name": "Python 3",
   "language": "python",
   "name": "python3"
  },
  "language_info": {
   "codemirror_mode": {
    "name": "ipython",
    "version": 3
   },
   "file_extension": ".py",
   "mimetype": "text/x-python",
   "name": "python",
   "nbconvert_exporter": "python",
   "pygments_lexer": "ipython3",
   "version": "3.8.5"
  }
 },
 "nbformat": 4,
 "nbformat_minor": 2
}
