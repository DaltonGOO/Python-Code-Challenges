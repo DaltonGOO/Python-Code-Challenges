{
 "cells": [
  {
   "cell_type": "markdown",
   "metadata": {},
   "source": [
    "# Resources\n",
    "\n",
    "\n",
    "\n",
    "\n",
    "### Python\n",
    "\n",
    "[Python 3 Documentation](https://docs.python.org/3/library/)\n",
    "\n",
    "\n",
    "### General\n",
    "\n",
    "[Stackoverflow](https://stackoverflow.com/)\n",
    "\n",
    "### YouTube vids\n",
    "\n",
    "[Kalle Hallden](https://www.youtube.com/channel/UCWr0mx597DnSGLFk1WfvSkQ)\n",
    "\n",
    "[PyCon 2019](https://www.youtube.com/channel/UCxs2IIVXaEHHA4BtTiWZ2mQ)\n",
    "\n",
    "[Tech With Tim](https://www.youtube.com/channel/UC4JX40jDee_tINbkjycV4Sg)\n",
    "\n",
    "[Python Programmer](https://www.youtube.com/user/consumerchampion)\n",
    "\n",
    "[sentdex](https://www.youtube.com/user/sentdex)\n",
    "\n",
    "### Markdown links\n",
    "[Markdown Cheatsheet](https://github.com/adam-p/markdown-here/wiki/Markdown-Cheatsheet)\n",
    "\n",
    "[Markdown Guide](https://www.markdownguide.org/)\n",
    "\n",
    "[Markdown Table Generator](https://www.tablesgenerator.com/markdown_tables)\n",
    "\n",
    "\n",
    "### Code\n",
    "\n",
    "\n",
    "```df.reset_index(self, level=None, drop=False, inplace=False, col_level=0, col_fill='')```\n",
    "\n",
    "```df = pd.DataFrame(np.random.randint(500,4000,size=(200, 1)), columns=list('A'))```\n",
    "\n",
    "```df['randNumCol'] = np.random.randint(1, 6, df.shape[0])```\n",
    "\n",
    "```\n",
    "# Declare a list that is to be converted into a column \n",
    "tradcounthvac = xyzhvac.x.count()\n",
    "tradehvac = tradcounthvac * ['hvac'] \n",
    "\n",
    "tradcountelec = xyzelec.x.count()\n",
    "tradeelec = tradcountelec * ['elec'] \n",
    "\n",
    "# Using 'Trade' as the column name \n",
    "# and equating it to the list \n",
    "xyzhvac['Trade'] = tradehvac\n",
    "xyzelec['Trade'] = tradeelec\n",
    "```\n",
    "\n",
    "\n",
    "\n",
    "### Packages\n",
    "\n",
    "\n",
    "```! pip install pandas-profiling```\n",
    "\n",
    "```! pip install plotly```\n",
    "\n",
    "```! pip install cufflinks```\n",
    "\n",
    "```! pip install plotly==4.2.1```\n",
    "\n",
    "```!pip install dovpanda```\n",
    "\n",
    "```import numpy as np```\n",
    "\n",
    "```import pandas as pd```\n",
    "\n",
    "```import pandas_profiling```\n",
    "\n",
    "```import plotly.graph_objects as go```\n",
    "\n",
    "```import dovpanda```\n",
    "\n",
    "### pandas\n",
    "[What can you do with the new ‘Pandas’?](https://towardsdatascience.com/what-can-you-do-with-the-new-pandas-2d24cf8d8b4b)\n",
    "\n",
    "[Reordering Pandas DataFrame Columns: Thumbs Down On Standard Solutions](https://towardsdatascience.com/reordering-pandas-dataframe-columns-thumbs-down-on-standard-solutions-1ff0bc2941d5)\n",
    "\n",
    "[pandas Documentation](https://pandas.pydata.org/pandas-docs/stable/)\n",
    "\n",
    "[7 practical pandas tips when you start working with the library](https://towardsdatascience.com/7-practical-pandas-tips-when-you-start-working-with-the-library-e4a9205eb443)\n",
    "\n",
    "[dataframe transpose](https://www.geeksforgeeks.org/python-pandas-dataframe-transpose/)\n",
    "\n",
    "[Combining DataFrames with Pandas](https://datacarpentry.org/python-ecology-lesson/05-merging-data/)\n",
    "\n",
    "[dovpanda](https://github.com/dovpanda-dev/dovpanda)\n",
    "\n",
    "\n",
    "[Selecting Subsets of Data in Pandas: Part 1](https://medium.com/dunder-data/selecting-subsets-of-data-in-pandas-6fcd0170be9c)\n",
    "\n",
    "[10 simple Python tips to speed up your data analysis](https://thenextweb.com/syndication/2020/10/12/10-simple-python-tips-to-speed-up-your-data-analysis/)\n",
    "\n",
    "[15 Tips and Tricks to use in Jupyter Notebooks](https://towardsdatascience.com/15-tips-and-tricks-to-use-jupyter-notebook-more-efficiently-ef05ede4e4b9)\n",
    "\n",
    "```result = df.transpose() ```\n",
    "\n",
    "5 functions to examine your data: ```df.head()', df.describe(), df.info(), df.shape, df.sum(), df['Trade'].value_counts() ```\n",
    "\n",
    "Reports: ```pandas_profiling.ProfileReport(df)```\n",
    "\n",
    "Import: ```import pandas_profiling```\n",
    "\n",
    "Save a dataframe to a csv```df.to_csv```\n",
    "\n",
    "Create a Pandas Dataframe```df = pd.DataFrame(data) ```\n",
    "\n",
    "Read a csv file```pd.read_csv('')```\n",
    "\n",
    "Read a excel file```pd.read_excel('')```\n",
    "\n",
    "All rows that have a sepal length greater than 6 are dangerous ```df['is_dangerous'] = np.where(df['sepal length (cm)']>6, 'yes', 'no')```\n",
    "\n",
    "Max columns option ```pd.set_option('display.max_columns', 500)```\n",
    "\n",
    "Max row option ```pd.set_option('display.max_rows', 500)```\n",
    "\n",
    "to see columns ```df.columns```\n",
    "\n",
    "replace strings ```df.columns = df.columns.str.replace(' \\(cm\\)', '').str.replace(' ', '_')```\n",
    "\n",
    "### plotly\n",
    "\n",
    "[plotly Graphing Libraries](https://plot.ly/python/)\n",
    "\n",
    "[Different Colors for Bars in Barchart by their Value](https://community.plot.ly/t/different-colors-for-bars-in-barchart-by-their-value/6527)\n",
    "\n",
    "\n",
    "\n",
    "### Scikit-Learn\n",
    "\n",
    "[A beginner’s guide to Linear Regression in Python with Scikit-Learn](https://towardsdatascience.com/a-beginners-guide-to-linear-regression-in-python-with-scikit-learn-83a8f7ae2b4f)\n",
    "\n",
    "### Notes"
   ]
  },
  {
   "cell_type": "code",
   "execution_count": 44,
   "metadata": {},
   "outputs": [],
   "source": [
    "# Codewars\n",
    "# https://www.codewars.com/kata/530e15517bc88ac656000716/train/python\n",
    "# Rot13"
   ]
  },
  {
   "cell_type": "code",
   "execution_count": 2,
   "metadata": {},
   "outputs": [],
   "source": [
    "import string"
   ]
  },
  {
   "cell_type": "code",
   "execution_count": 49,
   "metadata": {},
   "outputs": [],
   "source": [
    "import string\n",
    "def rot13(msg):   \n",
    "    alpha = string.ascii_lowercase\n",
    "    new_msg = msg.lower()\n",
    "    res = []\n",
    "    for c, i in zip(new_msg, msg):         \n",
    "        if c in alpha:\n",
    "            index = alpha.index(c) + 13\n",
    "            if index > 25:\n",
    "                if i.islower():\n",
    "                    res.append(alpha[index-26])\n",
    "                else:\n",
    "                    res.append(alpha[index-26].upper())\n",
    "            else:\n",
    "                if i.islower():\n",
    "                    res.append(alpha[index])\n",
    "                else:\n",
    "                    res.append(alpha[index].upper())\n",
    "        else:\n",
    "            res.append(i)\n",
    "            \n",
    "    res = \"\".join(res)\n",
    "    return res"
   ]
  },
  {
   "cell_type": "code",
   "execution_count": 53,
   "metadata": {},
   "outputs": [
    {
     "data": {
      "text/plain": [
       "'grfg'"
      ]
     },
     "execution_count": 53,
     "metadata": {},
     "output_type": "execute_result"
    }
   ],
   "source": [
    "rot13(\"test\")"
   ]
  },
  {
   "cell_type": "code",
   "execution_count": 5,
   "metadata": {},
   "outputs": [
    {
     "data": {
      "text/plain": [
       "19"
      ]
     },
     "execution_count": 5,
     "metadata": {},
     "output_type": "execute_result"
    }
   ],
   "source": [
    "alpha.index(\"t\")"
   ]
  },
  {
   "cell_type": "code",
   "execution_count": 28,
   "metadata": {},
   "outputs": [
    {
     "data": {
      "text/plain": [
       "True"
      ]
     },
     "execution_count": 28,
     "metadata": {},
     "output_type": "execute_result"
    }
   ],
   "source": [
    "\"s\".islower()"
   ]
  },
  {
   "cell_type": "code",
   "execution_count": 48,
   "metadata": {},
   "outputs": [
    {
     "data": {
      "text/plain": [
       "False"
      ]
     },
     "execution_count": 48,
     "metadata": {},
     "output_type": "execute_result"
    }
   ],
   "source": [
    "\"!\" in string.ascii_lowercase"
   ]
  },
  {
   "cell_type": "code",
   "execution_count": 31,
   "metadata": {},
   "outputs": [
    {
     "data": {
      "text/plain": [
       "'Grfg'"
      ]
     },
     "execution_count": 31,
     "metadata": {},
     "output_type": "execute_result"
    }
   ],
   "source": [
    "msg = \"Test\"\n",
    "alpha = string.ascii_lowercase\n",
    "new_string = string.lower()\n",
    "res = []\n",
    "for c, i in zip(new_string, string):\n",
    "    index = alpha.index(c) + 13\n",
    "    if index > 26:\n",
    "        if i.islower():\n",
    "            res.append(alpha[index-26])\n",
    "        else:\n",
    "            res.append(alpha[index-26].upper())\n",
    "    else:\n",
    "        if i.islower():\n",
    "            res.append(alpha[index])\n",
    "        else:\n",
    "            res.append(alpha[index].upper())\n",
    "res = \"\".join(res)\n",
    "res"
   ]
  },
  {
   "cell_type": "code",
   "execution_count": 25,
   "metadata": {},
   "outputs": [
    {
     "data": {
      "text/plain": [
       "'S'"
      ]
     },
     "execution_count": 25,
     "metadata": {},
     "output_type": "execute_result"
    }
   ],
   "source": [
    "\"s\".upper()"
   ]
  },
  {
   "cell_type": "code",
   "execution_count": 20,
   "metadata": {},
   "outputs": [
    {
     "data": {
      "text/plain": [
       "26"
      ]
     },
     "execution_count": 20,
     "metadata": {},
     "output_type": "execute_result"
    }
   ],
   "source": [
    "len(alpha)"
   ]
  },
  {
   "cell_type": "code",
   "execution_count": 24,
   "metadata": {},
   "outputs": [
    {
     "data": {
      "text/plain": [
       "['__add__',\n",
       " '__class__',\n",
       " '__contains__',\n",
       " '__delattr__',\n",
       " '__dir__',\n",
       " '__doc__',\n",
       " '__eq__',\n",
       " '__format__',\n",
       " '__ge__',\n",
       " '__getattribute__',\n",
       " '__getitem__',\n",
       " '__getnewargs__',\n",
       " '__gt__',\n",
       " '__hash__',\n",
       " '__init__',\n",
       " '__init_subclass__',\n",
       " '__iter__',\n",
       " '__le__',\n",
       " '__len__',\n",
       " '__lt__',\n",
       " '__mod__',\n",
       " '__mul__',\n",
       " '__ne__',\n",
       " '__new__',\n",
       " '__reduce__',\n",
       " '__reduce_ex__',\n",
       " '__repr__',\n",
       " '__rmod__',\n",
       " '__rmul__',\n",
       " '__setattr__',\n",
       " '__sizeof__',\n",
       " '__str__',\n",
       " '__subclasshook__',\n",
       " 'capitalize',\n",
       " 'casefold',\n",
       " 'center',\n",
       " 'count',\n",
       " 'encode',\n",
       " 'endswith',\n",
       " 'expandtabs',\n",
       " 'find',\n",
       " 'format',\n",
       " 'format_map',\n",
       " 'index',\n",
       " 'isalnum',\n",
       " 'isalpha',\n",
       " 'isascii',\n",
       " 'isdecimal',\n",
       " 'isdigit',\n",
       " 'isidentifier',\n",
       " 'islower',\n",
       " 'isnumeric',\n",
       " 'isprintable',\n",
       " 'isspace',\n",
       " 'istitle',\n",
       " 'isupper',\n",
       " 'join',\n",
       " 'ljust',\n",
       " 'lower',\n",
       " 'lstrip',\n",
       " 'maketrans',\n",
       " 'partition',\n",
       " 'replace',\n",
       " 'rfind',\n",
       " 'rindex',\n",
       " 'rjust',\n",
       " 'rpartition',\n",
       " 'rsplit',\n",
       " 'rstrip',\n",
       " 'split',\n",
       " 'splitlines',\n",
       " 'startswith',\n",
       " 'strip',\n",
       " 'swapcase',\n",
       " 'title',\n",
       " 'translate',\n",
       " 'upper',\n",
       " 'zfill']"
      ]
     },
     "execution_count": 24,
     "metadata": {},
     "output_type": "execute_result"
    }
   ],
   "source": [
    "dir(str)"
   ]
  },
  {
   "cell_type": "code",
   "execution_count": 12,
   "metadata": {},
   "outputs": [
    {
     "data": {
      "text/plain": [
       "4"
      ]
     },
     "execution_count": 12,
     "metadata": {},
     "output_type": "execute_result"
    }
   ],
   "source": [
    "n = 28\n",
    "if n > 24:\n",
    "    n = n-24\n",
    "n"
   ]
  },
  {
   "cell_type": "code",
   "execution_count": 14,
   "metadata": {},
   "outputs": [
    {
     "data": {
      "text/plain": [
       "'a'"
      ]
     },
     "execution_count": 14,
     "metadata": {},
     "output_type": "execute_result"
    }
   ],
   "source": [
    "alpha[4]"
   ]
  },
  {
   "cell_type": "code",
   "execution_count": null,
   "metadata": {},
   "outputs": [],
   "source": []
  }
 ],
 "metadata": {
  "kernelspec": {
   "display_name": "Python 3",
   "language": "python",
   "name": "python3"
  },
  "language_info": {
   "codemirror_mode": {
    "name": "ipython",
    "version": 3
   },
   "file_extension": ".py",
   "mimetype": "text/x-python",
   "name": "python",
   "nbconvert_exporter": "python",
   "pygments_lexer": "ipython3",
   "version": "3.8.5"
  }
 },
 "nbformat": 4,
 "nbformat_minor": 2
}
