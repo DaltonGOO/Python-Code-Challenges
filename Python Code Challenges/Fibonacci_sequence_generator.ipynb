{
 "cells": [
  {
   "cell_type": "markdown",
   "metadata": {},
   "source": [
    "# Resources\n",
    "\n",
    "\n",
    "\n",
    "\n",
    "### Python\n",
    "\n",
    "[Python 3 Documentation](https://docs.python.org/3/library/)\n",
    "\n",
    "\n",
    "### General\n",
    "\n",
    "[Stackoverflow](https://stackoverflow.com/)\n",
    "\n",
    "### YouTube vids\n",
    "\n",
    "[Kalle Hallden](https://www.youtube.com/channel/UCWr0mx597DnSGLFk1WfvSkQ)\n",
    "\n",
    "[PyCon 2019](https://www.youtube.com/channel/UCxs2IIVXaEHHA4BtTiWZ2mQ)\n",
    "\n",
    "[Tech With Tim](https://www.youtube.com/channel/UC4JX40jDee_tINbkjycV4Sg)\n",
    "\n",
    "[Python Programmer](https://www.youtube.com/user/consumerchampion)\n",
    "\n",
    "[sentdex](https://www.youtube.com/user/sentdex)\n",
    "\n",
    "### Markdown links\n",
    "[Markdown Cheatsheet](https://github.com/adam-p/markdown-here/wiki/Markdown-Cheatsheet)\n",
    "\n",
    "[Markdown Guide](https://www.markdownguide.org/)\n",
    "\n",
    "[Markdown Table Generator](https://www.tablesgenerator.com/markdown_tables)\n",
    "\n",
    "\n",
    "### Code\n",
    "\n",
    "\n",
    "```df.reset_index(self, level=None, drop=False, inplace=False, col_level=0, col_fill='')```\n",
    "\n",
    "```df = pd.DataFrame(np.random.randint(500,4000,size=(200, 1)), columns=list('A'))```\n",
    "\n",
    "```df['randNumCol'] = np.random.randint(1, 6, df.shape[0])```\n",
    "\n",
    "```\n",
    "# Declare a list that is to be converted into a column \n",
    "tradcounthvac = xyzhvac.x.count()\n",
    "tradehvac = tradcounthvac * ['hvac'] \n",
    "\n",
    "tradcountelec = xyzelec.x.count()\n",
    "tradeelec = tradcountelec * ['elec'] \n",
    "\n",
    "# Using 'Trade' as the column name \n",
    "# and equating it to the list \n",
    "xyzhvac['Trade'] = tradehvac\n",
    "xyzelec['Trade'] = tradeelec\n",
    "```\n",
    "\n",
    "\n",
    "\n",
    "### Packages\n",
    "\n",
    "\n",
    "```! pip install pandas-profiling```\n",
    "\n",
    "```! pip install plotly```\n",
    "\n",
    "```! pip install cufflinks```\n",
    "\n",
    "```! pip install plotly==4.2.1```\n",
    "\n",
    "```!pip install dovpanda```\n",
    "\n",
    "```import numpy as np```\n",
    "\n",
    "```import pandas as pd```\n",
    "\n",
    "```import pandas_profiling```\n",
    "\n",
    "```import plotly.graph_objects as go```\n",
    "\n",
    "```import dovpanda```\n",
    "\n",
    "### pandas\n",
    "[What can you do with the new ‘Pandas’?](https://towardsdatascience.com/what-can-you-do-with-the-new-pandas-2d24cf8d8b4b)\n",
    "\n",
    "[Reordering Pandas DataFrame Columns: Thumbs Down On Standard Solutions](https://towardsdatascience.com/reordering-pandas-dataframe-columns-thumbs-down-on-standard-solutions-1ff0bc2941d5)\n",
    "\n",
    "[pandas Documentation](https://pandas.pydata.org/pandas-docs/stable/)\n",
    "\n",
    "[7 practical pandas tips when you start working with the library](https://towardsdatascience.com/7-practical-pandas-tips-when-you-start-working-with-the-library-e4a9205eb443)\n",
    "\n",
    "[dataframe transpose](https://www.geeksforgeeks.org/python-pandas-dataframe-transpose/)\n",
    "\n",
    "[Combining DataFrames with Pandas](https://datacarpentry.org/python-ecology-lesson/05-merging-data/)\n",
    "\n",
    "[dovpanda](https://github.com/dovpanda-dev/dovpanda)\n",
    "\n",
    "\n",
    "[Selecting Subsets of Data in Pandas: Part 1](https://medium.com/dunder-data/selecting-subsets-of-data-in-pandas-6fcd0170be9c)\n",
    "\n",
    "[10 simple Python tips to speed up your data analysis](https://thenextweb.com/syndication/2020/10/12/10-simple-python-tips-to-speed-up-your-data-analysis/)\n",
    "\n",
    "[15 Tips and Tricks to use in Jupyter Notebooks](https://towardsdatascience.com/15-tips-and-tricks-to-use-jupyter-notebook-more-efficiently-ef05ede4e4b9)\n",
    "\n",
    "```result = df.transpose() ```\n",
    "\n",
    "5 functions to examine your data: ```df.head()', df.describe(), df.info(), df.shape, df.sum(), df['Trade'].value_counts() ```\n",
    "\n",
    "Reports: ```pandas_profiling.ProfileReport(df)```\n",
    "\n",
    "Import: ```import pandas_profiling```\n",
    "\n",
    "Save a dataframe to a csv```df.to_csv```\n",
    "\n",
    "Create a Pandas Dataframe```df = pd.DataFrame(data) ```\n",
    "\n",
    "Read a csv file```pd.read_csv('')```\n",
    "\n",
    "Read a excel file```pd.read_excel('')```\n",
    "\n",
    "All rows that have a sepal length greater than 6 are dangerous ```df['is_dangerous'] = np.where(df['sepal length (cm)']>6, 'yes', 'no')```\n",
    "\n",
    "Max columns option ```pd.set_option('display.max_columns', 500)```\n",
    "\n",
    "Max row option ```pd.set_option('display.max_rows', 500)```\n",
    "\n",
    "to see columns ```df.columns```\n",
    "\n",
    "replace strings ```df.columns = df.columns.str.replace(' \\(cm\\)', '').str.replace(' ', '_')```\n",
    "\n",
    "### plotly\n",
    "\n",
    "[plotly Graphing Libraries](https://plot.ly/python/)\n",
    "\n",
    "[Different Colors for Bars in Barchart by their Value](https://community.plot.ly/t/different-colors-for-bars-in-barchart-by-their-value/6527)\n",
    "\n",
    "\n",
    "\n",
    "### Scikit-Learn\n",
    "\n",
    "[A beginner’s guide to Linear Regression in Python with Scikit-Learn](https://towardsdatascience.com/a-beginners-guide-to-linear-regression-in-python-with-scikit-learn-83a8f7ae2b4f)\n",
    "\n",
    "### Notes"
   ]
  },
  {
   "cell_type": "code",
   "execution_count": 44,
   "metadata": {},
   "outputs": [],
   "source": [
    "# LinkedIn Learning\n",
    "# https://www.linkedin.com/learning/learning-python-generators/challenge-fibonacci-sequence-generator?contextUrn=urn%3Ali%3AlyndaLearningPath%3A56db2f4b3dd5596be4e4989f&u=80827442\n",
    "# Fibonacci Sequence Generator"
   ]
  },
  {
   "cell_type": "code",
   "execution_count": 117,
   "metadata": {},
   "outputs": [],
   "source": [
    "def fib_generator():\n",
    "    l = [0]\n",
    "    while True:\n",
    "        if len(l) == 1:\n",
    "            l.append(1)\n",
    "            yield 1\n",
    "        else:    \n",
    "            n = l[-1] + l[-2]\n",
    "            l.append(n)\n",
    "            yield n"
   ]
  },
  {
   "cell_type": "code",
   "execution_count": 85,
   "metadata": {},
   "outputs": [],
   "source": [
    "# Linkedin Solution\n",
    "def fib_generator2():\n",
    "    trailing, lead = 0,1\n",
    "    while True:\n",
    "        yield lead\n",
    "        trailing, lead = lead, trailing+lead"
   ]
  },
  {
   "cell_type": "code",
   "execution_count": 118,
   "metadata": {},
   "outputs": [],
   "source": [
    "fib = fib_generator()\n",
    "fib2 = fib_generator2()"
   ]
  },
  {
   "cell_type": "code",
   "execution_count": 155,
   "metadata": {},
   "outputs": [
    {
     "name": "stdout",
     "output_type": "stream",
     "text": [
      "[0, 1, 1, 2, 3, 5, 8, 13, 21, 34, 55, 89, 144, 233, 377, 610, 987, 1597, 2584]\n"
     ]
    },
    {
     "data": {
      "text/plain": [
       "2584"
      ]
     },
     "execution_count": 155,
     "metadata": {},
     "output_type": "execute_result"
    }
   ],
   "source": [
    "fib.__next__()"
   ]
  },
  {
   "cell_type": "code",
   "execution_count": 154,
   "metadata": {},
   "outputs": [
    {
     "data": {
      "text/plain": [
       "2584"
      ]
     },
     "execution_count": 154,
     "metadata": {},
     "output_type": "execute_result"
    }
   ],
   "source": [
    "fib2.__next__()"
   ]
  },
  {
   "cell_type": "code",
   "execution_count": null,
   "metadata": {},
   "outputs": [],
   "source": []
  }
 ],
 "metadata": {
  "kernelspec": {
   "display_name": "Python 3",
   "language": "python",
   "name": "python3"
  },
  "language_info": {
   "codemirror_mode": {
    "name": "ipython",
    "version": 3
   },
   "file_extension": ".py",
   "mimetype": "text/x-python",
   "name": "python",
   "nbconvert_exporter": "python",
   "pygments_lexer": "ipython3",
   "version": "3.8.5"
  }
 },
 "nbformat": 4,
 "nbformat_minor": 2
}
