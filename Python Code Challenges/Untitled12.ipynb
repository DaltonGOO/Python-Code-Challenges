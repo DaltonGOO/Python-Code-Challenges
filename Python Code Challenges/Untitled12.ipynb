{
 "cells": [
  {
   "cell_type": "code",
   "execution_count": null,
   "metadata": {},
   "outputs": [],
   "source": [
    "Test.describe(\"Basic Tests\")\n",
    "Test.assert_equals(array_diff([1,2], [1]), [2], \"a was [1,2], b was [1], expected [2]\")\n",
    "Test.assert_equals(array_diff([1,2,2], [1]), [2,2], \"a was [1,2,2], b was [1], expected [2,2]\")\n",
    "Test.assert_equals(array_diff([1,2,2], [2]), [1], \"a was [1,2,2], b was [2], expected [1]\")\n",
    "Test.assert_equals(array_diff([1,2,2], []), [1,2,2], \"a was [1,2,2], b was [], expected [1,2,2]\")\n",
    "Test.assert_equals(array_diff([], [1,2]), [], \"a was [], b was [1,2], expected []\")"
   ]
  },
  {
   "cell_type": "code",
   "execution_count": 39,
   "metadata": {},
   "outputs": [],
   "source": [
    "def array_diff(l, drop): \n",
    "    for i in drop:\n",
    "        for j in list(l):\n",
    "            if j == i:\n",
    "                if l == []:\n",
    "                    pass\n",
    "                else:\n",
    "                    l.remove(j)\n",
    "            else:\n",
    "                pass\n",
    "    return l"
   ]
  },
  {
   "cell_type": "code",
   "execution_count": null,
   "metadata": {},
   "outputs": [],
   "source": []
  },
  {
   "cell_type": "code",
   "execution_count": 40,
   "metadata": {},
   "outputs": [
    {
     "data": {
      "text/plain": [
       "[2]"
      ]
     },
     "execution_count": 40,
     "metadata": {},
     "output_type": "execute_result"
    }
   ],
   "source": [
    "l"
   ]
  },
  {
   "cell_type": "code",
   "execution_count": 49,
   "metadata": {},
   "outputs": [],
   "source": [
    "l = [1,2,3,4,5,2,1]\n",
    "drop = [1,2]"
   ]
  },
  {
   "cell_type": "code",
   "execution_count": 50,
   "metadata": {},
   "outputs": [
    {
     "data": {
      "text/plain": [
       "[3, 4, 5]"
      ]
     },
     "execution_count": 50,
     "metadata": {},
     "output_type": "execute_result"
    }
   ],
   "source": [
    "array_diff(l, drop)"
   ]
  },
  {
   "cell_type": "code",
   "execution_count": 3,
   "metadata": {},
   "outputs": [],
   "source": [
    "l = [1, 2]"
   ]
  },
  {
   "cell_type": "code",
   "execution_count": 5,
   "metadata": {},
   "outputs": [],
   "source": [
    "l.remove(1)"
   ]
  },
  {
   "cell_type": "code",
   "execution_count": 6,
   "metadata": {},
   "outputs": [
    {
     "data": {
      "text/plain": [
       "[2]"
      ]
     },
     "execution_count": 6,
     "metadata": {},
     "output_type": "execute_result"
    }
   ],
   "source": [
    "l"
   ]
  },
  {
   "cell_type": "code",
   "execution_count": null,
   "metadata": {},
   "outputs": [],
   "source": []
  }
 ],
 "metadata": {
  "kernelspec": {
   "display_name": "Python 3",
   "language": "python",
   "name": "python3"
  },
  "language_info": {
   "codemirror_mode": {
    "name": "ipython",
    "version": 3
   },
   "file_extension": ".py",
   "mimetype": "text/x-python",
   "name": "python",
   "nbconvert_exporter": "python",
   "pygments_lexer": "ipython3",
   "version": "3.8.5"
  }
 },
 "nbformat": 4,
 "nbformat_minor": 4
}
